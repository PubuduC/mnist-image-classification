{
 "cells": [
  {
   "cell_type": "code",
   "execution_count": 1,
   "metadata": {},
   "outputs": [
    {
     "name": "stderr",
     "output_type": "stream",
     "text": [
      "Using TensorFlow backend.\n"
     ]
    }
   ],
   "source": [
    "from keras.layers import Input, Dense, Conv2D, MaxPooling2D, UpSampling2D, Conv2D, Dropout,Flatten, BatchNormalization\n",
    "from keras.models import Model, Sequential\n",
    "from keras.datasets import mnist\n",
    "from keras.utils import to_categorical\n",
    "from keras.optimizers import SGD\n",
    "from statistics import *\n",
    "import numpy as np\n",
    "\n",
    "# The encoding process\n",
    "input_img = Input(shape=(28, 28, 1))  \n",
    "\n",
    "\n",
    "# Conv1 #\n",
    "#convolution layer and relu layer\n",
    "x = Conv2D(filters = 16, kernel_size = (3, 3), activation='relu', padding='same')(input_img)\n",
    "#pooling layer\n",
    "x = MaxPooling2D(pool_size = (2, 2), padding='same')(x)\n",
    "\n",
    "# Conv2 #\n",
    "#convolution layer and relu layer\n",
    "x = Conv2D(filters = 8, kernel_size = (3, 3), activation='relu', padding='same')(x)\n",
    "#pooling layer\n",
    "x = MaxPooling2D(pool_size = (2, 2), padding='same')(x) \n",
    "\n",
    "# Conv 3 #\n",
    "#convolution layer and relu layer\n",
    "x = Conv2D(filters = 8, kernel_size = (3, 3), activation='relu', padding='same')(x)\n",
    "#pooling layer\n",
    "encoded = MaxPooling2D(pool_size = (2, 2), padding='same')(x)\n"
   ]
  },
  {
   "cell_type": "code",
   "execution_count": 2,
   "metadata": {},
   "outputs": [],
   "source": [
    "# DeConv1\n",
    "#convolution layer and relu layer\n",
    "x = Conv2D(8, (3, 3), activation='relu', padding='same')(encoded)\n",
    "#The UpSampling2D Layer does the exact opposite of MaxPooling2D\n",
    "x = UpSampling2D((2, 2))(x)\n",
    "\n",
    "# DeConv2\n",
    "#convolution layer and relu layer\n",
    "x = Conv2D(8, (3, 3), activation='relu', padding='same')(x)\n",
    "#The UpSampling2D Layer does the exact opposite of MaxPooling2D\n",
    "x = UpSampling2D((2, 2))(x)\n",
    "\n",
    "# Deconv3\n",
    "#convolution layer and relu layer\n",
    "x = Conv2D(16, (3, 3), activation='relu')(x)\n",
    "#The UpSampling2D Layer does the exact opposite of MaxPooling2D\n",
    "x = UpSampling2D((2, 2))(x)\n",
    "decoded = Conv2D(1, (3, 3), activation='sigmoid', padding='same')(x)"
   ]
  },
  {
   "cell_type": "code",
   "execution_count": 3,
   "metadata": {},
   "outputs": [],
   "source": [
    "# Declare the model\n",
    "autoencoder = Model(input_img, decoded)\n",
    "autoencoder.compile(optimizer='adadelta', loss='binary_crossentropy')"
   ]
  },
  {
   "cell_type": "code",
   "execution_count": 4,
   "metadata": {},
   "outputs": [],
   "source": [
    "# load train and test dataset\n",
    "def load_dataset():\n",
    "    # load dataset\n",
    "    (trainX, trainY), (testX, testY) = mnist.load_data()\n",
    "    # reshape dataset to have a single channel\n",
    "    #the pixel values are grayscale, the pixel dimension is set to 1.\n",
    "    trainX = trainX.reshape((trainX.shape[0], 28, 28, 1))\n",
    "    testX = testX.reshape((testX.shape[0], 28, 28, 1))\n",
    "    # one hot encode target values\n",
    "    trainY = to_categorical(trainY)\n",
    "    testY = to_categorical(testY)\n",
    "    return trainX, trainY, testX, testY"
   ]
  },
  {
   "cell_type": "code",
   "execution_count": 5,
   "metadata": {},
   "outputs": [],
   "source": [
    "trainX, trainY, testX, testY = load_dataset()\n",
    "input_shape = (28, 28, 1)"
   ]
  },
  {
   "cell_type": "code",
   "execution_count": 6,
   "metadata": {},
   "outputs": [],
   "source": [
    "# scale pixels\n",
    "def prep_pixels(train, test):\n",
    "    # convert from integers to floats\n",
    "    # Making sure that the values are float so that we can get decimal points after division\n",
    "    train_norm = train.astype('float32')\n",
    "    test_norm = test.astype('float32')\n",
    "    # normalize to range 0-1\n",
    "    # Normalizing the grey scale codes by dividing it by the max grey scale value.\n",
    "    train_norm = train_norm / 255.0\n",
    "    test_norm = test_norm / 255.0\n",
    "    # return normalized images\n",
    "    return train_norm, test_norm"
   ]
  },
  {
   "cell_type": "code",
   "execution_count": 7,
   "metadata": {},
   "outputs": [],
   "source": [
    "trainX, testX = prep_pixels(trainX, testX)"
   ]
  },
  {
   "cell_type": "code",
   "execution_count": 8,
   "metadata": {},
   "outputs": [],
   "source": [
    "#adding random noise to the data\n",
    "def generate_noise_data(noise_factor):\n",
    "    x_train_noisy = trainX+ noise_factor * np.random.normal(loc=0.0, scale=1.0, size=trainX.shape)\n",
    "    x_test_noisy = testX + noise_factor * np.random.normal(loc=0.0, scale=1.0, size=testX.shape)\n",
    "    x_train_noisy = np.clip(x_train_noisy, 0., 1.)\n",
    "    x_test_noisy = np.clip(x_test_noisy, 0., 1.)\n",
    "    return x_train_noisy, x_test_noisy"
   ]
  },
  {
   "cell_type": "code",
   "execution_count": 9,
   "metadata": {},
   "outputs": [],
   "source": [
    "noise_factor = 0.50\n",
    "x_train_noisy_new, x_test_noisy_new = generate_noise_data(noise_factor)"
   ]
  },
  {
   "cell_type": "code",
   "execution_count": 10,
   "metadata": {},
   "outputs": [
    {
     "name": "stdout",
     "output_type": "stream",
     "text": [
      "Train on 60000 samples, validate on 10000 samples\n",
      "Epoch 1/10\n",
      "60000/60000 [==============================] - 98s 2ms/step - loss: 0.2578 - val_loss: 0.2070\n",
      "Epoch 2/10\n",
      "60000/60000 [==============================] - 101s 2ms/step - loss: 0.1889 - val_loss: 0.1765\n",
      "Epoch 3/10\n",
      "60000/60000 [==============================] - 104s 2ms/step - loss: 0.1706 - val_loss: 0.1667\n",
      "Epoch 4/10\n",
      "60000/60000 [==============================] - 106s 2ms/step - loss: 0.1599 - val_loss: 0.1602\n",
      "Epoch 5/10\n",
      "60000/60000 [==============================] - 121s 2ms/step - loss: 0.1541 - val_loss: 0.1501\n",
      "Epoch 6/10\n",
      "60000/60000 [==============================] - 119s 2ms/step - loss: 0.1500 - val_loss: 0.1469\n",
      "Epoch 7/10\n",
      "60000/60000 [==============================] - 126s 2ms/step - loss: 0.1470 - val_loss: 0.1480\n",
      "Epoch 8/10\n",
      "60000/60000 [==============================] - 101s 2ms/step - loss: 0.1446 - val_loss: 0.1393\n",
      "Epoch 9/10\n",
      "60000/60000 [==============================] - 103s 2ms/step - loss: 0.1430 - val_loss: 0.1382\n",
      "Epoch 10/10\n",
      "60000/60000 [==============================] - 97s 2ms/step - loss: 0.1415 - val_loss: 0.1399\n"
     ]
    },
    {
     "data": {
      "text/plain": [
       "<keras.callbacks.callbacks.History at 0x28ca574fac8>"
      ]
     },
     "execution_count": 10,
     "metadata": {},
     "output_type": "execute_result"
    }
   ],
   "source": [
    "# Train the model\n",
    "autoencoder.fit(x_train_noisy_new, trainX,\n",
    "                epochs=10,\n",
    "                batch_size=128,\n",
    "                shuffle=True,\n",
    "                validation_data=(x_test_noisy_new, testX)\n",
    "               )"
   ]
  },
  {
   "cell_type": "code",
   "execution_count": 11,
   "metadata": {},
   "outputs": [
    {
     "data": {
      "image/png": "[encoded data removed]",
      "text/plain": [
       "<Figure size 1440x288 with 20 Axes>"
      ]
     },
     "metadata": {
      "needs_background": "light"
     },
     "output_type": "display_data"
    }
   ],
   "source": [
    "import matplotlib.pyplot as plt\n",
    "decoded_imgs = autoencoder.predict(x_test_noisy_new)\n",
    "\n",
    "n = 10\n",
    "\n",
    "plt.figure(figsize=(20, 4))\n",
    "for i in range(n):\n",
    "    # display original\n",
    "    ax = plt.subplot(2, n, i + 1)\n",
    "    plt.imshow(x_test_noisy_new[i].reshape(28, 28))\n",
    "    plt.gray()\n",
    "    ax.get_xaxis().set_visible(False)\n",
    "    ax.get_yaxis().set_visible(False)\n",
    "\n",
    "    # display reconstruction\n",
    "    ax = plt.subplot(2, n, i+1+n)\n",
    "    plt.imshow(decoded_imgs[i].reshape(28, 28))\n",
    "    plt.gray()\n",
    "    ax.get_xaxis().set_visible(False)\n",
    "    ax.get_yaxis().set_visible(False)\n",
    "plt.show()"
   ]
  },
  {
   "cell_type": "code",
   "execution_count": 12,
   "metadata": {},
   "outputs": [
    {
     "data": {
      "text/plain": [
       "(10000, 28, 28, 1)"
      ]
     },
     "execution_count": 12,
     "metadata": {},
     "output_type": "execute_result"
    }
   ],
   "source": [
    "decoded_imgs.shape"
   ]
  },
  {
   "cell_type": "markdown",
   "metadata": {},
   "source": [
    "New model is trained using noise reduced decoded images for the classification and it's accuarcies can be seen as follows after each epoch"
   ]
  },
  {
   "cell_type": "code",
   "execution_count": 13,
   "metadata": {},
   "outputs": [
    {
     "name": "stdout",
     "output_type": "stream",
     "text": [
      "Train on 9000 samples, validate on 1000 samples\n",
      "Epoch 1/10\n",
      "9000/9000 [==============================] - 15s 2ms/step - loss: 0.6362 - accuracy: 0.7977 - val_loss: 1.2007 - val_accuracy: 0.7260\n",
      "Epoch 2/10\n",
      "9000/9000 [==============================] - 15s 2ms/step - loss: 0.4039 - accuracy: 0.8731 - val_loss: 0.3886 - val_accuracy: 0.8740\n",
      "Epoch 3/10\n",
      "9000/9000 [==============================] - 15s 2ms/step - loss: 0.3472 - accuracy: 0.8882 - val_loss: 0.3372 - val_accuracy: 0.8940\n",
      "Epoch 4/10\n",
      "9000/9000 [==============================] - 15s 2ms/step - loss: 0.3080 - accuracy: 0.8944 - val_loss: 0.3823 - val_accuracy: 0.8820\n",
      "Epoch 5/10\n",
      "9000/9000 [==============================] - 15s 2ms/step - loss: 0.2826 - accuracy: 0.9091 - val_loss: 0.3282 - val_accuracy: 0.8980\n",
      "Epoch 6/10\n",
      "9000/9000 [==============================] - 15s 2ms/step - loss: 0.2437 - accuracy: 0.9187 - val_loss: 0.3121 - val_accuracy: 0.8920\n",
      "Epoch 7/10\n",
      "9000/9000 [==============================] - 15s 2ms/step - loss: 0.2288 - accuracy: 0.9234 - val_loss: 0.3720 - val_accuracy: 0.8840\n",
      "Epoch 8/10\n",
      "9000/9000 [==============================] - 15s 2ms/step - loss: 0.2174 - accuracy: 0.9278 - val_loss: 0.3234 - val_accuracy: 0.8980\n",
      "Epoch 9/10\n",
      "9000/9000 [==============================] - 15s 2ms/step - loss: 0.1971 - accuracy: 0.9337 - val_loss: 0.2893 - val_accuracy: 0.9060\n",
      "Epoch 10/10\n",
      "9000/9000 [==============================] - 15s 2ms/step - loss: 0.1763 - accuracy: 0.9407 - val_loss: 0.3376 - val_accuracy: 0.9020\n"
     ]
    },
    {
     "data": {
      "text/plain": [
       "<keras.callbacks.callbacks.History at 0x28cad904e10>"
      ]
     },
     "execution_count": 13,
     "metadata": {},
     "output_type": "execute_result"
    }
   ],
   "source": [
    "# deep learning models are created where an instance of the Sequential class is created\n",
    "# model layers are created and added to it.\n",
    "model = Sequential() \n",
    "\n",
    "# 28 filters, each being size of 3x3 and slides through the image  with a stride of magnitude 1 in horizontal and vertical direction using ReLU activation function\n",
    "model.add(Conv2D(28, kernel_size=(3,3), strides=(1,1), input_shape=input_shape)) \n",
    "\n",
    "#adding batch normalization to changing the distribution by standarising the output\n",
    "model.add(BatchNormalization())\n",
    "\n",
    "#max pooling to extract digit features\n",
    "model.add(MaxPooling2D(pool_size=(2,2)))\n",
    "\n",
    "#increasing the model depth\n",
    "model.add(Conv2D(64, kernel_size=(3, 3), activation='relu', strides=(1,1)))\n",
    "model.add(Conv2D(64, kernel_size=(3, 3), activation='relu', strides=(1,1)))\n",
    "model.add(MaxPooling2D(pool_size=(2, 2)))\n",
    "#turns matrix values into a single vector\n",
    "model.add(Flatten()) \n",
    "#hidden layer with 200 nodes and relu activation function\n",
    "model.add(Dense(200,activation = \"relu\")) \n",
    "# dropout regularization to drop certain neurons to reduce overfitting\n",
    "model.add(Dropout(0.3)) \n",
    "#adding batch normalization to changing the distribution by standarising the output\n",
    "model.add(BatchNormalization())\n",
    "#output layer for classification values of digits 0-9\n",
    "model.add(Dense(10,activation = \"softmax\"))\n",
    "# compile model\n",
    "model.compile(optimizer=\"adam\", loss='categorical_crossentropy', metrics=['accuracy'])\n",
    "model.fit(decoded_imgs, testY, epochs=10, validation_split=0.1)"
   ]
  },
  {
   "cell_type": "code",
   "execution_count": null,
   "metadata": {},
   "outputs": [],
   "source": []
  }
 ],
 "metadata": {
  "kernelspec": {
   "display_name": "Python 3",
   "language": "python",
   "name": "python3"
  },
  "language_info": {
   "codemirror_mode": {
    "name": "ipython",
    "version": 3
   },
   "file_extension": ".py",
   "mimetype": "text/x-python",
   "name": "python",
   "nbconvert_exporter": "python",
   "pygments_lexer": "ipython3",
   "version": "3.6.10"
  }
 },
 "nbformat": 4,
 "nbformat_minor": 4
}

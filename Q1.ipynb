{
 "cells": [
  {
   "cell_type": "code",
   "execution_count": 1,
   "metadata": {},
   "outputs": [
    {
     "name": "stderr",
     "output_type": "stream",
     "text": [
      "Using TensorFlow backend.\n"
     ]
    }
   ],
   "source": [
    "from keras.datasets import mnist\n",
    "from keras.utils import to_categorical\n",
    "from keras.models import Sequential\n",
    "from keras.layers import Conv2D, Dropout, MaxPooling2D, Flatten, Dense, BatchNormalization\n",
    "from keras.optimizers import SGD\n",
    "from statistics import *"
   ]
  },
  {
   "cell_type": "code",
   "execution_count": 2,
   "metadata": {},
   "outputs": [],
   "source": [
    "# load train and test dataset\n",
    "def load_dataset():\n",
    "    # load dataset\n",
    "    (trainX, trainY), (testX, testY) = mnist.load_data()\n",
    "    # reshape dataset to have a single channel\n",
    "    #the pixel values are grayscale, the pixel dimension is set to 1.\n",
    "    trainX = trainX.reshape((trainX.shape[0], 28, 28, 1))\n",
    "    testX = testX.reshape((testX.shape[0], 28, 28, 1))\n",
    "    # one hot encode target values\n",
    "    trainY = to_categorical(trainY)\n",
    "    testY = to_categorical(testY)\n",
    "    return trainX, trainY, testX, testY"
   ]
  },
  {
   "cell_type": "code",
   "execution_count": 3,
   "metadata": {},
   "outputs": [],
   "source": [
    "trainX, trainY, testX, testY = load_dataset()\n",
    "input_shape = (28, 28, 1)"
   ]
  },
  {
   "cell_type": "code",
   "execution_count": 4,
   "metadata": {},
   "outputs": [],
   "source": [
    "# scale pixels\n",
    "def prep_pixels(train, test):\n",
    "    # convert from integers to floats\n",
    "    # Making sure that the values are float so that we can get decimal points after division\n",
    "    train_norm = train.astype('float32')\n",
    "    test_norm = test.astype('float32')\n",
    "    # normalize to range 0-1\n",
    "    # Normalizing the grey scale codes by dividing it by the max grey scale value.\n",
    "    train_norm = train_norm / 255.0\n",
    "    test_norm = test_norm / 255.0\n",
    "    # return normalized images\n",
    "    return train_norm, test_norm"
   ]
  },
  {
   "cell_type": "code",
   "execution_count": 5,
   "metadata": {},
   "outputs": [],
   "source": [
    "trainX, testX = prep_pixels(trainX, testX)"
   ]
  },
  {
   "cell_type": "code",
   "execution_count": 6,
   "metadata": {},
   "outputs": [
    {
     "name": "stdout",
     "output_type": "stream",
     "text": [
      "Train on 60000 samples, validate on 10000 samples\n",
      "Epoch 1/10\n",
      "60000/60000 [==============================] - 100s 2ms/step - loss: 0.1339 - accuracy: 0.9610 - val_loss: 0.0443 - val_accuracy: 0.9854\n",
      "Epoch 2/10\n",
      "60000/60000 [==============================] - 104s 2ms/step - loss: 0.0575 - accuracy: 0.9828 - val_loss: 0.0297 - val_accuracy: 0.9899\n",
      "Epoch 3/10\n",
      "60000/60000 [==============================] - 102s 2ms/step - loss: 0.0414 - accuracy: 0.9875 - val_loss: 0.0275 - val_accuracy: 0.9919\n",
      "Epoch 4/10\n",
      "60000/60000 [==============================] - 107s 2ms/step - loss: 0.0369 - accuracy: 0.9885 - val_loss: 0.0247 - val_accuracy: 0.9921\n",
      "Epoch 5/10\n",
      "60000/60000 [==============================] - 102s 2ms/step - loss: 0.0288 - accuracy: 0.9912 - val_loss: 0.0247 - val_accuracy: 0.9926\n",
      "Epoch 6/10\n",
      "60000/60000 [==============================] - 100s 2ms/step - loss: 0.0238 - accuracy: 0.9920 - val_loss: 0.0269 - val_accuracy: 0.9921\n",
      "Epoch 7/10\n",
      "60000/60000 [==============================] - 107s 2ms/step - loss: 0.0214 - accuracy: 0.9932 - val_loss: 0.0309 - val_accuracy: 0.9915\n",
      "Epoch 8/10\n",
      "60000/60000 [==============================] - 110s 2ms/step - loss: 0.0178 - accuracy: 0.9944 - val_loss: 0.0224 - val_accuracy: 0.9941\n",
      "Epoch 9/10\n",
      "60000/60000 [==============================] - 110s 2ms/step - loss: 0.0194 - accuracy: 0.9940 - val_loss: 0.0294 - val_accuracy: 0.9917\n",
      "Epoch 10/10\n",
      "60000/60000 [==============================] - 112s 2ms/step - loss: 0.0159 - accuracy: 0.9948 - val_loss: 0.0194 - val_accuracy: 0.9937\n"
     ]
    },
    {
     "data": {
      "text/plain": [
       "<keras.callbacks.callbacks.History at 0x1bde0733a90>"
      ]
     },
     "execution_count": 6,
     "metadata": {},
     "output_type": "execute_result"
    }
   ],
   "source": [
    "# deep learning models are created where an instance of the Sequential class is created\n",
    "# model layers are created and added to it.\n",
    "model = Sequential() \n",
    "\n",
    "# 28 filters, each being size of 3x3 and slides through the image  with a stride of magnitude 1 in horizontal and vertical direction using ReLU activation function\n",
    "model.add(Conv2D(28, kernel_size=(3,3), strides=(1,1), input_shape=input_shape)) \n",
    "\n",
    "#adding batch normalization to changing the distribution by standarising the output\n",
    "model.add(BatchNormalization())\n",
    "\n",
    "#max pooling to extract digit features\n",
    "model.add(MaxPooling2D(pool_size=(2,2)))\n",
    "\n",
    "#increasing the model depth\n",
    "model.add(Conv2D(64, kernel_size=(3, 3), activation='relu', strides=(1,1)))\n",
    "model.add(Conv2D(64, kernel_size=(3, 3), activation='relu', strides=(1,1)))\n",
    "model.add(MaxPooling2D(pool_size=(2, 2)))\n",
    "#turns matrix values into a single vector\n",
    "model.add(Flatten()) \n",
    "#hidden layer with 200 nodes and relu activation function\n",
    "model.add(Dense(200,activation = \"relu\")) \n",
    "# dropout regularization to drop certain neurons to reduce overfitting\n",
    "model.add(Dropout(0.3)) \n",
    "#adding batch normalization to changing the distribution by standarising the output\n",
    "model.add(BatchNormalization())\n",
    "#output layer for classification values of digits 0-9\n",
    "model.add(Dense(10,activation = \"softmax\"))\n",
    "# compile model\n",
    "model.compile(optimizer=\"adam\", loss='categorical_crossentropy', metrics=['accuracy'])\n",
    "model.fit(trainX, trainY, epochs=10, validation_data=(testX, testY))"
   ]
  },
  {
   "cell_type": "code",
   "execution_count": 7,
   "metadata": {},
   "outputs": [
    {
     "data": {
      "text/plain": [
       "[0.019425847147696913, 0.9937000274658203]"
      ]
     },
     "execution_count": 7,
     "metadata": {},
     "output_type": "execute_result"
    }
   ],
   "source": [
    "model.evaluate(testX, testY, verbose=0)"
   ]
  },
  {
   "cell_type": "code",
   "execution_count": null,
   "metadata": {},
   "outputs": [],
   "source": []
  }
 ],
 "metadata": {
  "kernelspec": {
   "display_name": "Python 3",
   "language": "python",
   "name": "python3"
  },
  "language_info": {
   "codemirror_mode": {
    "name": "ipython",
    "version": 3
   },
   "file_extension": ".py",
   "mimetype": "text/x-python",
   "name": "python",
   "nbconvert_exporter": "python",
   "pygments_lexer": "ipython3",
   "version": "3.6.10"
  }
 },
 "nbformat": 4,
 "nbformat_minor": 4
}

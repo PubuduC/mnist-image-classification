{
 "cells": [
  {
   "cell_type": "code",
   "execution_count": 1,
   "metadata": {},
   "outputs": [
    {
     "name": "stderr",
     "output_type": "stream",
     "text": [
      "Using TensorFlow backend.\n"
     ]
    }
   ],
   "source": [
    "from keras.datasets import mnist\n",
    "from keras.utils import to_categorical\n",
    "from keras.models import Sequential\n",
    "from keras.layers import Conv2D, Dropout, MaxPooling2D, Flatten, Dense, BatchNormalization\n",
    "from keras.optimizers import SGD\n",
    "from statistics import *\n",
    "import numpy as np"
   ]
  },
  {
   "cell_type": "code",
   "execution_count": 2,
   "metadata": {},
   "outputs": [],
   "source": [
    "# load train and test dataset\n",
    "def load_dataset():\n",
    "    # load dataset\n",
    "    (trainX, trainY), (testX, testY) = mnist.load_data()\n",
    "    # reshape dataset to have a single channel\n",
    "    #the pixel values are grayscale, the pixel dimension is set to 1.\n",
    "    trainX = trainX.reshape((trainX.shape[0], 28, 28, 1))\n",
    "    testX = testX.reshape((testX.shape[0], 28, 28, 1))\n",
    "    # one hot encode target values\n",
    "    trainY = to_categorical(trainY)\n",
    "    testY = to_categorical(testY)\n",
    "    return trainX, trainY, testX, testY"
   ]
  },
  {
   "cell_type": "code",
   "execution_count": 3,
   "metadata": {},
   "outputs": [],
   "source": [
    "trainX, trainY, testX, testY = load_dataset()\n",
    "input_shape = (28, 28, 1)"
   ]
  },
  {
   "cell_type": "code",
   "execution_count": 4,
   "metadata": {},
   "outputs": [],
   "source": [
    "# scale pixels\n",
    "def prep_pixels(train, test):\n",
    "    # convert from integers to floats\n",
    "    # Making sure that the values are float so that we can get decimal points after division\n",
    "    train_norm = train.astype('float32')\n",
    "    test_norm = test.astype('float32')\n",
    "    # normalize to range 0-1\n",
    "    # Normalizing the grey scale codes by dividing it by the max grey scale value.\n",
    "    train_norm = train_norm / 255.0\n",
    "    test_norm = test_norm / 255.0\n",
    "    # return normalized images\n",
    "    return train_norm, test_norm"
   ]
  },
  {
   "cell_type": "code",
   "execution_count": 5,
   "metadata": {},
   "outputs": [],
   "source": [
    "trainX, testX = prep_pixels(trainX, testX)"
   ]
  },
  {
   "cell_type": "code",
   "execution_count": 6,
   "metadata": {},
   "outputs": [],
   "source": [
    "def generate_noise_data(noise_factor):\n",
    "    x_train_noisy = trainX+ noise_factor * np.random.normal(loc=0.0, scale=1.0, size=trainX.shape)\n",
    "    x_test_noisy = testX + noise_factor * np.random.normal(loc=0.0, scale=1.0, size=testX.shape)\n",
    "    x_train_noisy = np.clip(x_train_noisy, 0., 1.)\n",
    "    x_test_noisy = np.clip(x_test_noisy, 0., 1.)\n",
    "    return x_train_noisy, x_test_noisy"
   ]
  },
  {
   "cell_type": "code",
   "execution_count": 7,
   "metadata": {},
   "outputs": [],
   "source": [
    "def model_build_fit_evaluate(x_train_noisy, x_test_noisy, trainY, testY):\n",
    "    # deep learning models are created where an instance of the Sequential class is created\n",
    "    # model layers are created and added to it.\n",
    "    model = Sequential() \n",
    "\n",
    "    # 28 filters, each being size of 3x3 and slides through the image  with a stride of magnitude 1 in horizontal and vertical direction using ReLU activation function\n",
    "    model.add(Conv2D(28, kernel_size=(3,3), strides=(1,1), input_shape=input_shape)) \n",
    "\n",
    "    #adding batch normalization to changing the distribution by standarising the output\n",
    "    model.add(BatchNormalization())\n",
    "\n",
    "    #max pooling to extract digit features\n",
    "    model.add(MaxPooling2D(pool_size=(2,2)))\n",
    "\n",
    "    #increasing the model depth\n",
    "    model.add(Conv2D(64, kernel_size=(3, 3), activation='relu', strides=(1,1)))\n",
    "    model.add(Conv2D(64, kernel_size=(3, 3), activation='relu', strides=(1,1)))\n",
    "    model.add(MaxPooling2D(pool_size=(2, 2)))\n",
    "    #turns matrix values into a single vector\n",
    "    model.add(Flatten()) \n",
    "    #hidden layer with 200 nodes and relu activation function\n",
    "    model.add(Dense(200,activation = \"relu\")) \n",
    "    # dropout regularization to drop certain neurons to reduce overfitting\n",
    "    model.add(Dropout(0.3)) \n",
    "    #adding batch normalization to changing the distribution by standarising the output\n",
    "    model.add(BatchNormalization())\n",
    "    #output layer for classification values of digits 0-9\n",
    "    model.add(Dense(10,activation = \"softmax\"))\n",
    "    # compile model\n",
    "    model.compile(optimizer=\"adam\", loss='categorical_crossentropy', metrics=['accuracy'])\n",
    "    model.fit(x_train_noisy, trainY, epochs=10, validation_data=(x_test_noisy, testY))\n",
    "    model.evaluate(x_test_noisy, testY, verbose=0)"
   ]
  },
  {
   "cell_type": "code",
   "execution_count": 8,
   "metadata": {},
   "outputs": [
    {
     "name": "stdout",
     "output_type": "stream",
     "text": [
      "Train on 60000 samples, validate on 10000 samples\n",
      "Epoch 1/10\n",
      "60000/60000 [==============================] - 110s 2ms/step - loss: 0.1538 - accuracy: 0.9554 - val_loss: 0.0581 - val_accuracy: 0.9808\n",
      "Epoch 2/10\n",
      "60000/60000 [==============================] - 111s 2ms/step - loss: 0.0635 - accuracy: 0.9808 - val_loss: 0.0671 - val_accuracy: 0.9779\n",
      "Epoch 3/10\n",
      "60000/60000 [==============================] - 112s 2ms/step - loss: 0.0456 - accuracy: 0.9859 - val_loss: 0.0281 - val_accuracy: 0.9915\n",
      "Epoch 4/10\n",
      "60000/60000 [==============================] - 112s 2ms/step - loss: 0.0389 - accuracy: 0.9884 - val_loss: 0.0352 - val_accuracy: 0.9895\n",
      "Epoch 5/10\n",
      "60000/60000 [==============================] - 112s 2ms/step - loss: 0.0325 - accuracy: 0.9896 - val_loss: 0.0275 - val_accuracy: 0.9914\n",
      "Epoch 6/10\n",
      "60000/60000 [==============================] - 112s 2ms/step - loss: 0.0257 - accuracy: 0.9918 - val_loss: 0.0314 - val_accuracy: 0.9909\n",
      "Epoch 7/10\n",
      "60000/60000 [==============================] - 110s 2ms/step - loss: 0.0239 - accuracy: 0.9923 - val_loss: 0.0255 - val_accuracy: 0.9927\n",
      "Epoch 8/10\n",
      "60000/60000 [==============================] - 111s 2ms/step - loss: 0.0191 - accuracy: 0.9940 - val_loss: 0.0330 - val_accuracy: 0.9909\n",
      "Epoch 9/10\n",
      "60000/60000 [==============================] - 110s 2ms/step - loss: 0.0174 - accuracy: 0.9944 - val_loss: 0.0257 - val_accuracy: 0.9925\n",
      "Epoch 10/10\n",
      "60000/60000 [==============================] - 113s 2ms/step - loss: 0.0157 - accuracy: 0.9950 - val_loss: 0.0300 - val_accuracy: 0.9910\n"
     ]
    }
   ],
   "source": [
    "noise_factor = 0.1\n",
    "x_train_noisy_new, x_test_noisy_new = generate_noise_data(noise_factor)\n",
    "model_build_fit_evaluate(x_train_noisy_new, x_test_noisy_new, trainY, testY)"
   ]
  },
  {
   "cell_type": "code",
   "execution_count": 9,
   "metadata": {},
   "outputs": [
    {
     "name": "stdout",
     "output_type": "stream",
     "text": [
      "Train on 60000 samples, validate on 10000 samples\n",
      "Epoch 1/10\n",
      "60000/60000 [==============================] - 120s 2ms/step - loss: 0.1857 - accuracy: 0.9460 - val_loss: 0.0558 - val_accuracy: 0.9817\n",
      "Epoch 2/10\n",
      "60000/60000 [==============================] - 117s 2ms/step - loss: 0.0745 - accuracy: 0.9771 - val_loss: 0.0449 - val_accuracy: 0.9848\n",
      "Epoch 3/10\n",
      "60000/60000 [==============================] - 118s 2ms/step - loss: 0.0568 - accuracy: 0.9827 - val_loss: 0.0406 - val_accuracy: 0.9875\n",
      "Epoch 4/10\n",
      "60000/60000 [==============================] - 119s 2ms/step - loss: 0.0434 - accuracy: 0.9857 - val_loss: 0.0351 - val_accuracy: 0.9895\n",
      "Epoch 5/10\n",
      "60000/60000 [==============================] - 115s 2ms/step - loss: 0.0374 - accuracy: 0.9880 - val_loss: 0.0447 - val_accuracy: 0.9858\n",
      "Epoch 6/10\n",
      "60000/60000 [==============================] - 116s 2ms/step - loss: 0.0319 - accuracy: 0.9897 - val_loss: 0.0380 - val_accuracy: 0.9885\n",
      "Epoch 7/10\n",
      "60000/60000 [==============================] - 117s 2ms/step - loss: 0.0278 - accuracy: 0.9912 - val_loss: 0.0445 - val_accuracy: 0.9864\n",
      "Epoch 8/10\n",
      "60000/60000 [==============================] - 110s 2ms/step - loss: 0.0246 - accuracy: 0.9920 - val_loss: 0.0392 - val_accuracy: 0.9872\n",
      "Epoch 9/10\n",
      "60000/60000 [==============================] - 116s 2ms/step - loss: 0.0198 - accuracy: 0.9934 - val_loss: 0.0333 - val_accuracy: 0.9906\n",
      "Epoch 10/10\n",
      "60000/60000 [==============================] - 116s 2ms/step - loss: 0.0161 - accuracy: 0.9948 - val_loss: 0.0404 - val_accuracy: 0.9876\n"
     ]
    }
   ],
   "source": [
    "noise_factor = 0.25\n",
    "x_train_noisy_new, x_test_noisy_new = generate_noise_data(noise_factor)\n",
    "model_build_fit_evaluate(x_train_noisy_new, x_test_noisy_new, trainY, testY)"
   ]
  },
  {
   "cell_type": "code",
   "execution_count": 10,
   "metadata": {},
   "outputs": [
    {
     "name": "stdout",
     "output_type": "stream",
     "text": [
      "Train on 60000 samples, validate on 10000 samples\n",
      "Epoch 1/10\n",
      "60000/60000 [==============================] - 109s 2ms/step - loss: 0.3037 - accuracy: 0.9057 - val_loss: 0.1210 - val_accuracy: 0.9611\n",
      "Epoch 2/10\n",
      "60000/60000 [==============================] - 110s 2ms/step - loss: 0.1496 - accuracy: 0.9538 - val_loss: 0.1044 - val_accuracy: 0.9660\n",
      "Epoch 3/10\n",
      "60000/60000 [==============================] - 99s 2ms/step - loss: 0.1227 - accuracy: 0.9609 - val_loss: 0.0909 - val_accuracy: 0.9703\n",
      "Epoch 4/10\n",
      "60000/60000 [==============================] - 108s 2ms/step - loss: 0.1039 - accuracy: 0.9669 - val_loss: 0.0864 - val_accuracy: 0.9709\n",
      "Epoch 5/10\n",
      "60000/60000 [==============================] - 123s 2ms/step - loss: 0.0923 - accuracy: 0.9700 - val_loss: 0.0834 - val_accuracy: 0.9723\n",
      "Epoch 6/10\n",
      "60000/60000 [==============================] - 165s 3ms/step - loss: 0.0826 - accuracy: 0.9736 - val_loss: 0.0771 - val_accuracy: 0.9750\n",
      "Epoch 7/10\n",
      "60000/60000 [==============================] - 141s 2ms/step - loss: 0.0731 - accuracy: 0.9755 - val_loss: 0.0821 - val_accuracy: 0.9742\n",
      "Epoch 8/10\n",
      "60000/60000 [==============================] - 118s 2ms/step - loss: 0.0648 - accuracy: 0.9791 - val_loss: 0.0794 - val_accuracy: 0.9741\n",
      "Epoch 9/10\n",
      "60000/60000 [==============================] - 111s 2ms/step - loss: 0.0609 - accuracy: 0.9799 - val_loss: 0.0829 - val_accuracy: 0.9746\n",
      "Epoch 10/10\n",
      "60000/60000 [==============================] - 109s 2ms/step - loss: 0.0485 - accuracy: 0.9835 - val_loss: 0.0817 - val_accuracy: 0.9740\n"
     ]
    }
   ],
   "source": [
    "noise_factor = 0.50\n",
    "x_train_noisy_new, x_test_noisy_new = generate_noise_data(noise_factor)\n",
    "model_build_fit_evaluate(x_train_noisy_new, x_test_noisy_new, trainY, testY)"
   ]
  },
  {
   "cell_type": "code",
   "execution_count": 11,
   "metadata": {},
   "outputs": [
    {
     "name": "stdout",
     "output_type": "stream",
     "text": [
      "Train on 60000 samples, validate on 10000 samples\n",
      "Epoch 1/10\n",
      "60000/60000 [==============================] - 108s 2ms/step - loss: 0.5471 - accuracy: 0.8231 - val_loss: 0.3210 - val_accuracy: 0.8947\n",
      "Epoch 2/10\n",
      "60000/60000 [==============================] - 108s 2ms/step - loss: 0.3645 - accuracy: 0.8827 - val_loss: 0.3097 - val_accuracy: 0.9035\n",
      "Epoch 3/10\n",
      "60000/60000 [==============================] - 109s 2ms/step - loss: 0.3138 - accuracy: 0.8987 - val_loss: 0.3005 - val_accuracy: 0.9006\n",
      "Epoch 4/10\n",
      "60000/60000 [==============================] - 109s 2ms/step - loss: 0.2960 - accuracy: 0.9029 - val_loss: 0.2505 - val_accuracy: 0.9166\n",
      "Epoch 5/10\n",
      "60000/60000 [==============================] - 108s 2ms/step - loss: 0.2649 - accuracy: 0.9128 - val_loss: 0.2494 - val_accuracy: 0.9142\n",
      "Epoch 6/10\n",
      "60000/60000 [==============================] - 111s 2ms/step - loss: 0.2544 - accuracy: 0.9169 - val_loss: 0.2587 - val_accuracy: 0.9145\n",
      "Epoch 7/10\n",
      "60000/60000 [==============================] - 116s 2ms/step - loss: 0.2288 - accuracy: 0.9236 - val_loss: 0.2431 - val_accuracy: 0.9159\n",
      "Epoch 8/10\n",
      "60000/60000 [==============================] - 107s 2ms/step - loss: 0.2112 - accuracy: 0.9301 - val_loss: 0.2427 - val_accuracy: 0.9217\n",
      "Epoch 9/10\n",
      "60000/60000 [==============================] - 116s 2ms/step - loss: 0.1965 - accuracy: 0.9341 - val_loss: 0.2438 - val_accuracy: 0.9199\n",
      "Epoch 10/10\n",
      "60000/60000 [==============================] - 111s 2ms/step - loss: 0.1894 - accuracy: 0.9367 - val_loss: 0.2692 - val_accuracy: 0.9150\n"
     ]
    }
   ],
   "source": [
    "noise_factor = 0.75\n",
    "x_train_noisy_new, x_test_noisy_new = generate_noise_data(noise_factor)\n",
    "model_build_fit_evaluate(x_train_noisy_new, x_test_noisy_new, trainY, testY)"
   ]
  }
 ],
 "metadata": {
  "kernelspec": {
   "display_name": "Python 3",
   "language": "python",
   "name": "python3"
  },
  "language_info": {
   "codemirror_mode": {
    "name": "ipython",
    "version": 3
   },
   "file_extension": ".py",
   "mimetype": "text/x-python",
   "name": "python",
   "nbconvert_exporter": "python",
   "pygments_lexer": "ipython3",
   "version": "3.6.10"
  }
 },
 "nbformat": 4,
 "nbformat_minor": 4
}
